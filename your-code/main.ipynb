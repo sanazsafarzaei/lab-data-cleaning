{
 "cells": [
  {
   "cell_type": "markdown",
   "metadata": {},
   "source": [
    "#### 1. Import pandas library"
   ]
  },
  {
   "cell_type": "code",
   "execution_count": 1,
   "metadata": {},
   "outputs": [],
   "source": [
    "import pandas as pd"
   ]
  },
  {
   "cell_type": "markdown",
   "metadata": {},
   "source": [
    "#### 2. Import users table:"
   ]
  },
  {
   "cell_type": "code",
   "execution_count": 2,
   "metadata": {},
   "outputs": [],
   "source": [
    "users=pd.read_csv('users_table.csv')"
   ]
  },
  {
   "cell_type": "markdown",
   "metadata": {},
   "source": [
    "#### 3. Rename Id column to userId"
   ]
  },
  {
   "cell_type": "code",
   "execution_count": 3,
   "metadata": {},
   "outputs": [],
   "source": [
    "users.rename(columns={'Id':'userId'}, inplace = True)"
   ]
  },
  {
   "cell_type": "markdown",
   "metadata": {},
   "source": [
    "#### 4. Import posts table:"
   ]
  },
  {
   "cell_type": "code",
   "execution_count": 4,
   "metadata": {},
   "outputs": [],
   "source": [
    "posts=pd.read_csv('posts_table.csv')"
   ]
  },
  {
   "cell_type": "markdown",
   "metadata": {},
   "source": [
    "#### 5. Rename Id column to postId and OwnerUserId to userId"
   ]
  },
  {
   "cell_type": "code",
   "execution_count": 5,
   "metadata": {},
   "outputs": [],
   "source": [
    "posts.rename(columns={'Id':'postId', 'OwnerUserId':'userId'}, inplace=True)"
   ]
  },
  {
   "cell_type": "markdown",
   "metadata": {},
   "source": [
    "#### 6. Define new dataframes for users and posts with the following selected columns:\n",
    "    **users columns**: userId, Reputation,Views,UpVotes,DownVotes\n",
    "    **posts columns**: postId, Score,userId,ViewCount,CommentCount"
   ]
  },
  {
   "cell_type": "code",
   "execution_count": null,
   "metadata": {},
   "outputs": [],
   "source": [
    "users=users[['userId','Reputation','Views','UpVotes','DownVotes']]\n",
    "posts=posts[['postId', 'Score','userId','ViewCount','CommentCount']]"
   ]
  },
  {
   "cell_type": "markdown",
   "metadata": {},
   "source": [
    "#### 7. Merge both dataframes, users and posts. \n",
    "You will need to make a [merge](https://pandas.pydata.org/pandas-docs/stable/generated/pandas.DataFrame.merge.html) of posts and users dataframes."
   ]
  },
  {
   "cell_type": "code",
   "execution_count": 6,
   "metadata": {},
   "outputs": [],
   "source": [
    "merged_df=pd.merge(left=users,\n",
    "                   right=posts,\n",
    "                   left_on='userId',\n",
    "                   right_on='userId',\n",
    "                   how='inner'\n",
    ")"
   ]
  },
  {
   "cell_type": "markdown",
   "metadata": {},
   "source": [
    "#### 8. How many missing values do you have in your merged dataframe? On which columns?"
   ]
  },
  {
   "cell_type": "code",
   "execution_count": 7,
   "metadata": {},
   "outputs": [
    {
     "data": {
      "text/plain": [
       "userId                       0\n",
       "Reputation                   0\n",
       "CreationDate                 0\n",
       "DisplayName                  9\n",
       "LastAccessDate               0\n",
       "WebsiteUrl               21496\n",
       "Location                 18057\n",
       "AboutMe                  18488\n",
       "Views                        0\n",
       "UpVotes                      0\n",
       "DownVotes                    0\n",
       "AccountId                    0\n",
       "Age                      24862\n",
       "ProfileImageUrl          36137\n",
       "postId                       0\n",
       "PostTypeId                   0\n",
       "AcceptedAnswerId         31813\n",
       "CreaionDate                  0\n",
       "Score                        0\n",
       "ViewCount                23572\n",
       "Body                       115\n",
       "LasActivityDate              0\n",
       "Title                    23572\n",
       "Tags                     23572\n",
       "AnswerCount              23572\n",
       "CommentCount                 0\n",
       "FavoriteCount            31906\n",
       "LastEditorUserId         19624\n",
       "LastEditDate             19434\n",
       "CommunityOwnedDate       37136\n",
       "ParentId                 15923\n",
       "ClosedDate               38451\n",
       "OwnerDisplayName         38224\n",
       "LastEditorDisplayName    38753\n",
       "dtype: int64"
      ]
     },
     "execution_count": 7,
     "metadata": {},
     "output_type": "execute_result"
    }
   ],
   "source": [
    "merged_df.isnull().sum()"
   ]
  },
  {
   "cell_type": "markdown",
   "metadata": {},
   "source": [
    "#### 9. You will need to make something with missing values.  Will you clean or filling them? Explain. \n",
    "**Remember** to check the results of your code before passing to the next step"
   ]
  },
  {
   "cell_type": "code",
   "execution_count": 8,
   "metadata": {},
   "outputs": [
    {
     "name": "stdout",
     "output_type": "stream",
     "text": [
      "60.499974333966435\n",
      "float64\n"
     ]
    },
    {
     "data": {
      "text/plain": [
       "98.0      43\n",
       "150.0     43\n",
       "122.0     42\n",
       "156.0     41\n",
       "108.0     41\n",
       "          ..\n",
       "2313.0     1\n",
       "6113.0     1\n",
       "3463.0     1\n",
       "3531.0     1\n",
       "3357.0     1\n",
       "Name: ViewCount, Length: 3402, dtype: int64"
      ]
     },
     "execution_count": 8,
     "metadata": {},
     "output_type": "execute_result"
    }
   ],
   "source": [
    "print((merged_df['ViewCount'].isnull().sum()/merged_df.shape[0])*100)\n",
    "print(merged_df['ViewCount'].dtypes)\n",
    "merged_df['ViewCount'].value_counts()"
   ]
  },
  {
   "cell_type": "code",
   "execution_count": 9,
   "metadata": {},
   "outputs": [],
   "source": [
    "merged_df=merged_df.drop(columns=['ViewCount'])"
   ]
  },
  {
   "cell_type": "markdown",
   "metadata": {},
   "source": [
    "#### 10. Adjust the data types in order to avoid future issues. Which ones should be changed? "
   ]
  },
  {
   "cell_type": "code",
   "execution_count": 10,
   "metadata": {},
   "outputs": [
    {
     "data": {
      "text/plain": [
       "userId                     int64\n",
       "Reputation                 int64\n",
       "CreationDate              object\n",
       "DisplayName               object\n",
       "LastAccessDate            object\n",
       "WebsiteUrl                object\n",
       "Location                  object\n",
       "AboutMe                   object\n",
       "Views                      int64\n",
       "UpVotes                    int64\n",
       "DownVotes                  int64\n",
       "AccountId                  int64\n",
       "Age                      float64\n",
       "ProfileImageUrl           object\n",
       "postId                     int64\n",
       "PostTypeId                 int64\n",
       "AcceptedAnswerId         float64\n",
       "CreaionDate               object\n",
       "Score                      int64\n",
       "Body                      object\n",
       "LasActivityDate           object\n",
       "Title                     object\n",
       "Tags                      object\n",
       "AnswerCount              float64\n",
       "CommentCount               int64\n",
       "FavoriteCount            float64\n",
       "LastEditorUserId         float64\n",
       "LastEditDate              object\n",
       "CommunityOwnedDate        object\n",
       "ParentId                 float64\n",
       "ClosedDate                object\n",
       "OwnerDisplayName          object\n",
       "LastEditorDisplayName     object\n",
       "dtype: object"
      ]
     },
     "execution_count": 10,
     "metadata": {},
     "output_type": "execute_result"
    }
   ],
   "source": [
    "merged_df.dtypes"
   ]
  },
  {
   "cell_type": "code",
   "execution_count": 11,
   "metadata": {},
   "outputs": [
    {
     "data": {
      "text/html": [
       "<div>\n",
       "<style scoped>\n",
       "    .dataframe tbody tr th:only-of-type {\n",
       "        vertical-align: middle;\n",
       "    }\n",
       "\n",
       "    .dataframe tbody tr th {\n",
       "        vertical-align: top;\n",
       "    }\n",
       "\n",
       "    .dataframe thead th {\n",
       "        text-align: right;\n",
       "    }\n",
       "</style>\n",
       "<table border=\"1\" class=\"dataframe\">\n",
       "  <thead>\n",
       "    <tr style=\"text-align: right;\">\n",
       "      <th></th>\n",
       "      <th>userId</th>\n",
       "      <th>Reputation</th>\n",
       "      <th>CreationDate</th>\n",
       "      <th>DisplayName</th>\n",
       "      <th>LastAccessDate</th>\n",
       "      <th>WebsiteUrl</th>\n",
       "      <th>Location</th>\n",
       "      <th>AboutMe</th>\n",
       "      <th>Views</th>\n",
       "      <th>UpVotes</th>\n",
       "      <th>...</th>\n",
       "      <th>AnswerCount</th>\n",
       "      <th>CommentCount</th>\n",
       "      <th>FavoriteCount</th>\n",
       "      <th>LastEditorUserId</th>\n",
       "      <th>LastEditDate</th>\n",
       "      <th>CommunityOwnedDate</th>\n",
       "      <th>ParentId</th>\n",
       "      <th>ClosedDate</th>\n",
       "      <th>OwnerDisplayName</th>\n",
       "      <th>LastEditorDisplayName</th>\n",
       "    </tr>\n",
       "  </thead>\n",
       "  <tbody>\n",
       "    <tr>\n",
       "      <th>0</th>\n",
       "      <td>-1</td>\n",
       "      <td>1</td>\n",
       "      <td>2010-07-19 06:55:26</td>\n",
       "      <td>Community</td>\n",
       "      <td>2010-07-19 06:55:26</td>\n",
       "      <td>http://meta.stackexchange.com/</td>\n",
       "      <td>on the server farm</td>\n",
       "      <td>&lt;p&gt;Hi, I'm not really a person.&lt;/p&gt;\\r\\n\\r\\n&lt;p&gt;...</td>\n",
       "      <td>0</td>\n",
       "      <td>5007</td>\n",
       "      <td>...</td>\n",
       "      <td>NaN</td>\n",
       "      <td>0</td>\n",
       "      <td>NaN</td>\n",
       "      <td>-1.0</td>\n",
       "      <td>2014-04-23 13:43:43</td>\n",
       "      <td>NaN</td>\n",
       "      <td>NaN</td>\n",
       "      <td>NaN</td>\n",
       "      <td>NaN</td>\n",
       "      <td>NaN</td>\n",
       "    </tr>\n",
       "    <tr>\n",
       "      <th>1</th>\n",
       "      <td>-1</td>\n",
       "      <td>1</td>\n",
       "      <td>2010-07-19 06:55:26</td>\n",
       "      <td>Community</td>\n",
       "      <td>2010-07-19 06:55:26</td>\n",
       "      <td>http://meta.stackexchange.com/</td>\n",
       "      <td>on the server farm</td>\n",
       "      <td>&lt;p&gt;Hi, I'm not really a person.&lt;/p&gt;\\r\\n\\r\\n&lt;p&gt;...</td>\n",
       "      <td>0</td>\n",
       "      <td>5007</td>\n",
       "      <td>...</td>\n",
       "      <td>NaN</td>\n",
       "      <td>0</td>\n",
       "      <td>NaN</td>\n",
       "      <td>-1.0</td>\n",
       "      <td>2011-03-21 17:40:28</td>\n",
       "      <td>NaN</td>\n",
       "      <td>NaN</td>\n",
       "      <td>NaN</td>\n",
       "      <td>NaN</td>\n",
       "      <td>NaN</td>\n",
       "    </tr>\n",
       "  </tbody>\n",
       "</table>\n",
       "<p>2 rows × 33 columns</p>\n",
       "</div>"
      ],
      "text/plain": [
       "   userId  Reputation         CreationDate DisplayName       LastAccessDate  \\\n",
       "0      -1           1  2010-07-19 06:55:26   Community  2010-07-19 06:55:26   \n",
       "1      -1           1  2010-07-19 06:55:26   Community  2010-07-19 06:55:26   \n",
       "\n",
       "                       WebsiteUrl            Location  \\\n",
       "0  http://meta.stackexchange.com/  on the server farm   \n",
       "1  http://meta.stackexchange.com/  on the server farm   \n",
       "\n",
       "                                             AboutMe  Views  UpVotes  ...  \\\n",
       "0  <p>Hi, I'm not really a person.</p>\\r\\n\\r\\n<p>...      0     5007  ...   \n",
       "1  <p>Hi, I'm not really a person.</p>\\r\\n\\r\\n<p>...      0     5007  ...   \n",
       "\n",
       "   AnswerCount  CommentCount  FavoriteCount LastEditorUserId  \\\n",
       "0          NaN             0            NaN             -1.0   \n",
       "1          NaN             0            NaN             -1.0   \n",
       "\n",
       "          LastEditDate  CommunityOwnedDate  ParentId ClosedDate  \\\n",
       "0  2014-04-23 13:43:43                 NaN       NaN        NaN   \n",
       "1  2011-03-21 17:40:28                 NaN       NaN        NaN   \n",
       "\n",
       "   OwnerDisplayName LastEditorDisplayName  \n",
       "0               NaN                   NaN  \n",
       "1               NaN                   NaN  \n",
       "\n",
       "[2 rows x 33 columns]"
      ]
     },
     "execution_count": 11,
     "metadata": {},
     "output_type": "execute_result"
    }
   ],
   "source": [
    "merged_df.head(2)"
   ]
  },
  {
   "cell_type": "code",
   "execution_count": 12,
   "metadata": {},
   "outputs": [
    {
     "data": {
      "text/plain": [
       "postId                   38962\n",
       "Body                     38844\n",
       "CreaionDate              38680\n",
       "LasActivityDate          31963\n",
       "LastEditDate             19487\n",
       "Title                    15376\n",
       "ParentId                 12615\n",
       "Tags                     10894\n",
       "userId                    8138\n",
       "AccountId                 8138\n",
       "CreationDate              8137\n",
       "LastAccessDate            8136\n",
       "DisplayName               7167\n",
       "AcceptedAnswerId          7149\n",
       "LastEditorUserId          2461\n",
       "AboutMe                   1820\n",
       "WebsiteUrl                1717\n",
       "CommunityOwnedDate        1458\n",
       "Reputation                 871\n",
       "Location                   810\n",
       "ClosedDate                 511\n",
       "OwnerDisplayName           479\n",
       "Views                      336\n",
       "UpVotes                    296\n",
       "ProfileImageUrl            215\n",
       "Score                      122\n",
       "FavoriteCount               75\n",
       "DownVotes                   68\n",
       "Age                         59\n",
       "CommentCount                34\n",
       "AnswerCount                 31\n",
       "PostTypeId                   7\n",
       "LastEditorDisplayName        7\n",
       "dtype: int64"
      ]
     },
     "execution_count": 12,
     "metadata": {},
     "output_type": "execute_result"
    }
   ],
   "source": [
    "merged_df.nunique().sort_values(ascending=False)"
   ]
  },
  {
   "cell_type": "code",
   "execution_count": 13,
   "metadata": {},
   "outputs": [],
   "source": [
    "merged_df=merged_df.astype({'Score':'float'})"
   ]
  },
  {
   "cell_type": "code",
   "execution_count": 14,
   "metadata": {},
   "outputs": [
    {
     "data": {
      "text/plain": [
       "userId                     int64\n",
       "Reputation                 int64\n",
       "CreationDate              object\n",
       "DisplayName               object\n",
       "LastAccessDate            object\n",
       "WebsiteUrl                object\n",
       "Location                  object\n",
       "AboutMe                   object\n",
       "Views                      int64\n",
       "UpVotes                    int64\n",
       "DownVotes                  int64\n",
       "AccountId                  int64\n",
       "Age                      float64\n",
       "ProfileImageUrl           object\n",
       "postId                     int64\n",
       "PostTypeId                 int64\n",
       "AcceptedAnswerId         float64\n",
       "CreaionDate               object\n",
       "Score                    float64\n",
       "Body                      object\n",
       "LasActivityDate           object\n",
       "Title                     object\n",
       "Tags                      object\n",
       "AnswerCount              float64\n",
       "CommentCount               int64\n",
       "FavoriteCount            float64\n",
       "LastEditorUserId         float64\n",
       "LastEditDate              object\n",
       "CommunityOwnedDate        object\n",
       "ParentId                 float64\n",
       "ClosedDate                object\n",
       "OwnerDisplayName          object\n",
       "LastEditorDisplayName     object\n",
       "dtype: object"
      ]
     },
     "execution_count": 14,
     "metadata": {},
     "output_type": "execute_result"
    }
   ],
   "source": [
    "merged_df.dtypes"
   ]
  },
  {
   "cell_type": "code",
   "execution_count": null,
   "metadata": {},
   "outputs": [],
   "source": []
  }
 ],
 "metadata": {
  "kernelspec": {
   "display_name": "Python 3 (ipykernel)",
   "language": "python",
   "name": "python3"
  },
  "language_info": {
   "codemirror_mode": {
    "name": "ipython",
    "version": 3
   },
   "file_extension": ".py",
   "mimetype": "text/x-python",
   "name": "python",
   "nbconvert_exporter": "python",
   "pygments_lexer": "ipython3",
   "version": "3.9.13"
  }
 },
 "nbformat": 4,
 "nbformat_minor": 2
}
